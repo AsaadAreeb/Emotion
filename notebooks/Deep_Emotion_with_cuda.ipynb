{
  "nbformat": 4,
  "nbformat_minor": 0,
  "metadata": {
    "colab": {
      "provenance": [],
      "gpuType": "T4"
    },
    "kernelspec": {
      "name": "python3",
      "display_name": "Python 3"
    },
    "language_info": {
      "name": "python"
    },
    "accelerator": "GPU"
  },
  "cells": [
    {
      "cell_type": "code",
      "execution_count": null,
      "metadata": {
        "id": "7jzzY1wizKEr"
      },
      "outputs": [],
      "source": [
        "import pandas as pd\n",
        "import numpy as np\n",
        "import torch\n",
        "import torch.nn as nn\n",
        "import torch.optim as optim\n",
        "import torch.nn.functional as F\n",
        "from torchvision import transforms\n",
        "from torch.utils.data import Dataset, DataLoader, random_split\n",
        "import PIL\n",
        "from PIL import Image\n",
        "from sklearn.metrics import classification_report, accuracy_score\n",
        "import matplotlib.pyplot as plt\n",
        "from tqdm import tqdm"
      ]
    },
    {
      "cell_type": "code",
      "source": [
        "class DeepEmotion(nn.Module):\n",
        "    def __init__(self, num_classes, regularization_lambda=0.001):\n",
        "        super(DeepEmotion, self).__init__()\n",
        "\n",
        "        self.regularization_lambda = regularization_lambda\n",
        "\n",
        "        self.conv1 = nn.Conv2d(1, 10, kernel_size=3)\n",
        "        self.conv2 = nn.Conv2d(10, 10, kernel_size=3)\n",
        "        self.conv3 = nn.Conv2d(10, 10, kernel_size=3)\n",
        "        self.conv4 = nn.Conv2d(10, 10, kernel_size=3)\n",
        "\n",
        "        self.maxpool2 = nn.MaxPool2d(2, 2)\n",
        "        self.maxpool4 = nn.MaxPool2d(2, 2)\n",
        "\n",
        "        self.fc1 = nn.Linear(810, 50)\n",
        "        self.fc2 = nn.Linear(50, num_classes)\n",
        "\n",
        "\n",
        "        self.local_net = nn.Sequential(\n",
        "            nn.Conv2d(1, 8, kernel_size=7),\n",
        "            nn.MaxPool2d(2, 2),\n",
        "            nn.ReLU(True),\n",
        "\n",
        "            nn.Conv2d(8, 10, kernel_size=5),\n",
        "            nn.MaxPool2d(2, 2),\n",
        "            nn.ReLU(True),\n",
        "        )\n",
        "\n",
        "        self.local_fc = nn.Sequential(\n",
        "            nn.Linear(640, 32),\n",
        "            nn.ReLU(True),\n",
        "            nn.Linear(32, 3*2),\n",
        "        )\n",
        "\n",
        "        self.local_fc[2].weight.data.zero_()\n",
        "        self.local_fc[2].bias.data.copy_(torch.tensor([1, 0, 0, 0, 1, 0], dtype=torch.float))\n",
        "\n",
        "\n",
        "    def stn(self, x):\n",
        "        xs = self.local_net(x)\n",
        "        xs = xs.view(-1, 640)       # 10 * 3 * 3\n",
        "        theta = self.local_fc(xs)\n",
        "        theta = theta.view(-1, 2, 3)\n",
        "\n",
        "        grid = F.affine_grid(theta, x.size(), align_corners=True)\n",
        "        x = F.grid_sample(x, grid, align_corners=True)\n",
        "\n",
        "        return x\n",
        "\n",
        "    def calculate_regularization_loss(self):\n",
        "        # Calculate the L2 regularization loss for the weights in the last two fully-connected layers\n",
        "        regularization_loss = 0.0\n",
        "        for param in self.fc1.parameters():\n",
        "            regularization_loss += torch.norm(param, p=2)  # L2 norm\n",
        "        for param in self.fc2.parameters():\n",
        "            regularization_loss += torch.norm(param, p=2)  # L2 norm\n",
        "\n",
        "        return regularization_loss\n",
        "\n",
        "    def compute_loss(self, outputs, labels):\n",
        "        # Cross-entropy loss\n",
        "        classification_loss = nn.CrossEntropyLoss()(outputs, labels)\n",
        "\n",
        "        # L2 regularization loss\n",
        "        # regularization_loss = self.calculate_regularization_loss()\n",
        "\n",
        "        # Total loss with regularization\n",
        "        # total_loss = classification_loss + self.regularization_lambda * regularization_loss\n",
        "\n",
        "        return classification_loss\n",
        "\n",
        "    def forward(self, x):\n",
        "        grid = self.stn(x)\n",
        "        localization_grid_resized = F.interpolate(grid, size=(9, 9), mode='bilinear', align_corners=False)\n",
        "        x = F.relu(self.conv1(x))\n",
        "        x = self.conv2(x)\n",
        "        x = F.relu(self.maxpool2(x))\n",
        "\n",
        "        x = F.relu(self.conv3(x))\n",
        "        x = self.conv4(x)\n",
        "        x = F.relu(self.maxpool4(x))\n",
        "\n",
        "        x = F.dropout(x)\n",
        "\n",
        "        x = x * localization_grid_resized\n",
        "\n",
        "        x = x.view(-1, 810)\n",
        "        x = self.fc1(x)\n",
        "        x = self.fc2(x)\n",
        "\n",
        "        # x = F.softmax(x, dim=1)\n",
        "\n",
        "        return x"
      ],
      "metadata": {
        "id": "2HsijrVU-Osq"
      },
      "execution_count": null,
      "outputs": []
    },
    {
      "cell_type": "code",
      "source": [
        "class FERDataset(Dataset):\n",
        "    def __init__(self, csv_data, transform, train=True):\n",
        "        self.data = pd.read_csv(csv_data)\n",
        "        self.transform = transform\n",
        "        self.train = train\n",
        "\n",
        "    def __len__(self):\n",
        "        return len(self.data)\n",
        "\n",
        "    def __getitem__(self, idx):\n",
        "        if torch.is_tensor(idx):\n",
        "            idx = idx.tolist()\n",
        "\n",
        "        if self.train:\n",
        "            pixels = self.data.iloc[idx, 1].split()\n",
        "            pixels = np.array(pixels, dtype=np.uint8).reshape(48, 48)\n",
        "\n",
        "            image = Image.fromarray(pixels)\n",
        "\n",
        "            label = int(self.data.iloc[idx, 0])\n",
        "\n",
        "            if self.transform:\n",
        "                image = self.transform(image)\n",
        "\n",
        "            return image, label\n",
        "\n",
        "        pixels = self.data.iloc[idx, 0].split()\n",
        "        pixels = np.array(pixels, dtype=np.uint8).reshape(48, 48)\n",
        "\n",
        "        image = Image.fromarray(pixels)\n",
        "\n",
        "        if self.transform:\n",
        "            image = self.transform(image)\n",
        "\n",
        "        return image\n"
      ],
      "metadata": {
        "id": "EUJPTr09-_Al"
      },
      "execution_count": null,
      "outputs": []
    },
    {
      "cell_type": "code",
      "source": [
        "transform = transforms.Compose([\n",
        "    transforms.ToTensor(),\n",
        "    transforms.Normalize(mean=0.5, std=0.5)\n",
        "])"
      ],
      "metadata": {
        "id": "Eyh8w91F_B43"
      },
      "execution_count": null,
      "outputs": []
    },
    {
      "cell_type": "code",
      "source": [
        "def generate_TrainValTest_dataloaders(trpath='', tstpath='', batch_size=32):\n",
        "    Train_fer_dataset = FERDataset(csv_data=trpath, transform=transform)\n",
        "\n",
        "    train_size = int(0.8 * len(Train_fer_dataset))\n",
        "    val_size = len(Train_fer_dataset) - train_size\n",
        "\n",
        "    Train_fer_dataset, Val_fer_dataset = random_split(Train_fer_dataset, [train_size, val_size], generator=torch.Generator().manual_seed(42))\n",
        "\n",
        "    Test_fer_dataset = FERDataset(csv_data=tstpath, transform=transform, train=False)\n",
        "\n",
        "    TrainDataLoader = DataLoader(Train_fer_dataset, batch_size=batch_size, shuffle=True)\n",
        "    ValDataLoader = DataLoader(Val_fer_dataset, batch_size=batch_size)\n",
        "    TestDataLoader = DataLoader(Test_fer_dataset, batch_size=batch_size)\n",
        "    return TrainDataLoader, ValDataLoader, TestDataLoader"
      ],
      "metadata": {
        "id": "1udVxMXd_DfN"
      },
      "execution_count": null,
      "outputs": []
    },
    {
      "cell_type": "code",
      "source": [
        "emotion_dict = {\n",
        "    0:'Angry',\n",
        "    1:'Disgust',\n",
        "    2:'Fear',\n",
        "    3:'Happy',\n",
        "    4:'Sad',\n",
        "    5:'Surprise',\n",
        "    6:'Neutral',\n",
        "}"
      ],
      "metadata": {
        "id": "_cFJWSSP_ErD"
      },
      "execution_count": null,
      "outputs": []
    },
    {
      "cell_type": "code",
      "source": [
        "if torch.cuda.is_available():\n",
        "    device = torch.device(\"cuda\")\n",
        "else:\n",
        "    device = torch.device(\"cpu\")\n",
        "\n",
        "# You can print the device to verify it's set to GPU\n",
        "print(\"Device:\", device)"
      ],
      "metadata": {
        "colab": {
          "base_uri": "https://localhost:8080/"
        },
        "id": "Wdf8Og05tjmO",
        "outputId": "06b0dc6f-8121-43b4-ed99-cd163492f3d0"
      },
      "execution_count": null,
      "outputs": [
        {
          "output_type": "stream",
          "name": "stdout",
          "text": [
            "Device: cuda\n"
          ]
        }
      ]
    },
    {
      "cell_type": "code",
      "source": [
        "def Train(epochs, trainloader, valloader, optimizer, model):\n",
        "    print(\"===================================Start Training===================================\")\n",
        "\n",
        "    for epoch in range(epochs):\n",
        "        train_loss = 0\n",
        "        validation_loss = 0\n",
        "        train_correct = 0\n",
        "        val_correct = 0\n",
        "\n",
        "        model.train()\n",
        "        for data, labels in tqdm(trainloader, desc=f\"Epoch {epoch + 1}/{epochs} (Training)\"):\n",
        "            data, labels = data.to(device), labels.to(device)\n",
        "            optimizer.zero_grad()\n",
        "            outputs = model(data)\n",
        "            loss = model.compute_loss(outputs, labels)\n",
        "\n",
        "            loss.backward()\n",
        "            optimizer.step()\n",
        "\n",
        "            train_loss += loss.item()\n",
        "            _, preds = torch.max(outputs, 1)\n",
        "            train_correct += torch.sum(preds == labels.data)\n",
        "\n",
        "\n",
        "        model.eval()\n",
        "        for data, labels in tqdm(valloader, desc=f\"Epoch {epoch + 1}/{epochs} (Validation)\"):\n",
        "            data, labels = data.to(device), labels.to(device)\n",
        "            val_outputs = model(data)\n",
        "\n",
        "            val_loss = model.compute_loss(val_outputs, labels)\n",
        "\n",
        "            validation_loss += val_loss.item()\n",
        "            _, val_preds = torch.max(val_outputs, 1)\n",
        "            val_correct += torch.sum(val_preds == labels.data)\n",
        "\n",
        "        train_loss = train_loss / len(train_loader)\n",
        "        train_acc = train_correct.double() / len(train_loader.dataset)\n",
        "        validation_loss = validation_loss / len(val_loader)\n",
        "        val_acc = val_correct.double() / len(val_loader.dataset)\n",
        "\n",
        "        print('Epoch: {} \\tTraining Loss: {:.8f} \\tValidation Loss {:.8f} \\tTraining Accuracy {:.3f}% \\tValidation Accuracy {:.3f}%'\n",
        "              .format(epoch + 1, train_loss, validation_loss, train_acc * 100, val_acc * 100))\n",
        "\n",
        "    torch.save(model.state_dict(), 'deep_emotion-{}.pt'.format(epochs))\n",
        "    print(\"===================================Training Finished===================================\")\n",
        "\n"
      ],
      "metadata": {
        "id": "P5o3qI9M_Qv9"
      },
      "execution_count": null,
      "outputs": []
    },
    {
      "cell_type": "code",
      "source": [
        "num_classes = 7\n",
        "epochs = 100\n",
        "train_loader, val_loader, test_loader = generate_TrainValTest_dataloaders('/content/drive/MyDrive/FER_Data/train.csv', '/content/drive/MyDrive/FER_Data/test.csv')\n",
        "model = DeepEmotion(num_classes=num_classes, regularization_lambda=0.001)\n",
        "model = model.to(device)\n",
        "\n",
        "optimizer = optim.SGD(model.parameters(), lr=0.005, momentum=0.9)\n",
        "\n",
        "\n",
        "Train(epochs, train_loader, val_loader, optimizer, model)"
      ],
      "metadata": {
        "id": "kuS1laGP_RE-",
        "colab": {
          "base_uri": "https://localhost:8080/"
        },
        "outputId": "2ca95551-f2b7-45b7-ab58-aa1d393457b8"
      },
      "execution_count": null,
      "outputs": [
        {
          "output_type": "stream",
          "name": "stdout",
          "text": [
            "===================================Start Training===================================\n"
          ]
        },
        {
          "output_type": "stream",
          "name": "stderr",
          "text": [
            "Epoch 1/100 (Training): 100%|██████████| 718/718 [00:22<00:00, 31.72it/s]\n",
            "Epoch 1/100 (Validation): 100%|██████████| 180/180 [00:04<00:00, 42.47it/s]\n"
          ]
        },
        {
          "output_type": "stream",
          "name": "stdout",
          "text": [
            "Epoch: 1 \tTraining Loss: 1.78338051 \tValidation Loss 1.72823739 \tTraining Accuracy 27.235% \tValidation Accuracy 30.773%\n"
          ]
        },
        {
          "output_type": "stream",
          "name": "stderr",
          "text": [
            "Epoch 2/100 (Training): 100%|██████████| 718/718 [00:22<00:00, 32.25it/s]\n",
            "Epoch 2/100 (Validation): 100%|██████████| 180/180 [00:04<00:00, 43.21it/s]\n"
          ]
        },
        {
          "output_type": "stream",
          "name": "stdout",
          "text": [
            "Epoch: 2 \tTraining Loss: 1.72597072 \tValidation Loss 1.70722755 \tTraining Accuracy 30.918% \tValidation Accuracy 31.400%\n"
          ]
        },
        {
          "output_type": "stream",
          "name": "stderr",
          "text": [
            "Epoch 3/100 (Training): 100%|██████████| 718/718 [00:22<00:00, 32.41it/s]\n",
            "Epoch 3/100 (Validation): 100%|██████████| 180/180 [00:04<00:00, 44.46it/s]\n"
          ]
        },
        {
          "output_type": "stream",
          "name": "stdout",
          "text": [
            "Epoch: 3 \tTraining Loss: 1.70494299 \tValidation Loss 1.66997170 \tTraining Accuracy 32.098% \tValidation Accuracy 34.291%\n"
          ]
        },
        {
          "output_type": "stream",
          "name": "stderr",
          "text": [
            "Epoch 4/100 (Training): 100%|██████████| 718/718 [00:21<00:00, 33.50it/s]\n",
            "Epoch 4/100 (Validation): 100%|██████████| 180/180 [00:06<00:00, 26.84it/s]\n"
          ]
        },
        {
          "output_type": "stream",
          "name": "stdout",
          "text": [
            "Epoch: 4 \tTraining Loss: 1.68416418 \tValidation Loss 1.67728760 \tTraining Accuracy 33.134% \tValidation Accuracy 33.577%\n"
          ]
        },
        {
          "output_type": "stream",
          "name": "stderr",
          "text": [
            "Epoch 5/100 (Training): 100%|██████████| 718/718 [00:21<00:00, 33.36it/s]\n",
            "Epoch 5/100 (Validation): 100%|██████████| 180/180 [00:05<00:00, 34.95it/s]\n"
          ]
        },
        {
          "output_type": "stream",
          "name": "stdout",
          "text": [
            "Epoch: 5 \tTraining Loss: 1.68116709 \tValidation Loss 1.66782266 \tTraining Accuracy 32.817% \tValidation Accuracy 34.047%\n"
          ]
        },
        {
          "output_type": "stream",
          "name": "stderr",
          "text": [
            "Epoch 6/100 (Training): 100%|██████████| 718/718 [00:21<00:00, 34.14it/s]\n",
            "Epoch 6/100 (Validation): 100%|██████████| 180/180 [00:06<00:00, 29.48it/s]\n"
          ]
        },
        {
          "output_type": "stream",
          "name": "stdout",
          "text": [
            "Epoch: 6 \tTraining Loss: 1.66009236 \tValidation Loss 1.64078450 \tTraining Accuracy 34.441% \tValidation Accuracy 35.998%\n"
          ]
        },
        {
          "output_type": "stream",
          "name": "stderr",
          "text": [
            "Epoch 7/100 (Training): 100%|██████████| 718/718 [00:21<00:00, 33.89it/s]\n",
            "Epoch 7/100 (Validation): 100%|██████████| 180/180 [00:05<00:00, 30.92it/s]\n"
          ]
        },
        {
          "output_type": "stream",
          "name": "stdout",
          "text": [
            "Epoch: 7 \tTraining Loss: 1.65081944 \tValidation Loss 1.64624788 \tTraining Accuracy 34.950% \tValidation Accuracy 35.423%\n"
          ]
        },
        {
          "output_type": "stream",
          "name": "stderr",
          "text": [
            "Epoch 8/100 (Training): 100%|██████████| 718/718 [00:21<00:00, 34.06it/s]\n",
            "Epoch 8/100 (Validation): 100%|██████████| 180/180 [00:05<00:00, 32.13it/s]\n"
          ]
        },
        {
          "output_type": "stream",
          "name": "stdout",
          "text": [
            "Epoch: 8 \tTraining Loss: 1.62573301 \tValidation Loss 1.60958294 \tTraining Accuracy 36.496% \tValidation Accuracy 36.503%\n"
          ]
        },
        {
          "output_type": "stream",
          "name": "stderr",
          "text": [
            "Epoch 9/100 (Training): 100%|██████████| 718/718 [00:22<00:00, 31.76it/s]\n",
            "Epoch 9/100 (Validation): 100%|██████████| 180/180 [00:05<00:00, 30.88it/s]\n"
          ]
        },
        {
          "output_type": "stream",
          "name": "stdout",
          "text": [
            "Epoch: 9 \tTraining Loss: 1.61572272 \tValidation Loss 1.60584613 \tTraining Accuracy 36.631% \tValidation Accuracy 36.294%\n"
          ]
        },
        {
          "output_type": "stream",
          "name": "stderr",
          "text": [
            "Epoch 10/100 (Training): 100%|██████████| 718/718 [00:20<00:00, 34.27it/s]\n",
            "Epoch 10/100 (Validation): 100%|██████████| 180/180 [00:04<00:00, 36.94it/s]\n"
          ]
        },
        {
          "output_type": "stream",
          "name": "stdout",
          "text": [
            "Epoch: 10 \tTraining Loss: 1.60971744 \tValidation Loss 1.60008353 \tTraining Accuracy 37.127% \tValidation Accuracy 36.956%\n"
          ]
        },
        {
          "output_type": "stream",
          "name": "stderr",
          "text": [
            "Epoch 11/100 (Training): 100%|██████████| 718/718 [00:21<00:00, 33.28it/s]\n",
            "Epoch 11/100 (Validation): 100%|██████████| 180/180 [00:04<00:00, 44.27it/s]\n"
          ]
        },
        {
          "output_type": "stream",
          "name": "stdout",
          "text": [
            "Epoch: 11 \tTraining Loss: 1.59683633 \tValidation Loss 1.59368944 \tTraining Accuracy 37.802% \tValidation Accuracy 37.896%\n"
          ]
        },
        {
          "output_type": "stream",
          "name": "stderr",
          "text": [
            "Epoch 12/100 (Training): 100%|██████████| 718/718 [00:22<00:00, 32.15it/s]\n",
            "Epoch 12/100 (Validation): 100%|██████████| 180/180 [00:04<00:00, 42.94it/s]\n"
          ]
        },
        {
          "output_type": "stream",
          "name": "stdout",
          "text": [
            "Epoch: 12 \tTraining Loss: 1.58968269 \tValidation Loss 1.65062462 \tTraining Accuracy 38.133% \tValidation Accuracy 34.326%\n"
          ]
        },
        {
          "output_type": "stream",
          "name": "stderr",
          "text": [
            "Epoch 13/100 (Training): 100%|██████████| 718/718 [00:24<00:00, 29.63it/s]\n",
            "Epoch 13/100 (Validation): 100%|██████████| 180/180 [00:04<00:00, 43.51it/s]\n"
          ]
        },
        {
          "output_type": "stream",
          "name": "stdout",
          "text": [
            "Epoch: 13 \tTraining Loss: 1.57790737 \tValidation Loss 1.58948999 \tTraining Accuracy 38.695% \tValidation Accuracy 37.565%\n"
          ]
        },
        {
          "output_type": "stream",
          "name": "stderr",
          "text": [
            "Epoch 14/100 (Training): 100%|██████████| 718/718 [00:22<00:00, 31.80it/s]\n",
            "Epoch 14/100 (Validation): 100%|██████████| 180/180 [00:04<00:00, 41.81it/s]\n"
          ]
        },
        {
          "output_type": "stream",
          "name": "stdout",
          "text": [
            "Epoch: 14 \tTraining Loss: 1.61930643 \tValidation Loss 1.60269258 \tTraining Accuracy 36.370% \tValidation Accuracy 36.834%\n"
          ]
        },
        {
          "output_type": "stream",
          "name": "stderr",
          "text": [
            "Epoch 15/100 (Training): 100%|██████████| 718/718 [00:22<00:00, 32.22it/s]\n",
            "Epoch 15/100 (Validation): 100%|██████████| 180/180 [00:04<00:00, 44.63it/s]\n"
          ]
        },
        {
          "output_type": "stream",
          "name": "stdout",
          "text": [
            "Epoch: 15 \tTraining Loss: 1.58106534 \tValidation Loss 1.55238215 \tTraining Accuracy 38.229% \tValidation Accuracy 39.655%\n"
          ]
        },
        {
          "output_type": "stream",
          "name": "stderr",
          "text": [
            "Epoch 16/100 (Training): 100%|██████████| 718/718 [00:22<00:00, 32.52it/s]\n",
            "Epoch 16/100 (Validation): 100%|██████████| 180/180 [00:04<00:00, 44.15it/s]\n"
          ]
        },
        {
          "output_type": "stream",
          "name": "stdout",
          "text": [
            "Epoch: 16 \tTraining Loss: 1.55982396 \tValidation Loss 1.56062053 \tTraining Accuracy 39.661% \tValidation Accuracy 39.080%\n"
          ]
        },
        {
          "output_type": "stream",
          "name": "stderr",
          "text": [
            "Epoch 17/100 (Training): 100%|██████████| 718/718 [00:22<00:00, 31.38it/s]\n",
            "Epoch 17/100 (Validation): 100%|██████████| 180/180 [00:05<00:00, 35.72it/s]\n"
          ]
        },
        {
          "output_type": "stream",
          "name": "stdout",
          "text": [
            "Epoch: 17 \tTraining Loss: 1.55701100 \tValidation Loss 1.52827105 \tTraining Accuracy 39.596% \tValidation Accuracy 41.397%\n"
          ]
        },
        {
          "output_type": "stream",
          "name": "stderr",
          "text": [
            "Epoch 18/100 (Training): 100%|██████████| 718/718 [00:21<00:00, 34.12it/s]\n",
            "Epoch 18/100 (Validation): 100%|██████████| 180/180 [00:05<00:00, 32.24it/s]\n"
          ]
        },
        {
          "output_type": "stream",
          "name": "stdout",
          "text": [
            "Epoch: 18 \tTraining Loss: 1.53289694 \tValidation Loss 1.56883930 \tTraining Accuracy 40.567% \tValidation Accuracy 38.906%\n"
          ]
        },
        {
          "output_type": "stream",
          "name": "stderr",
          "text": [
            "Epoch 19/100 (Training): 100%|██████████| 718/718 [00:21<00:00, 34.03it/s]\n",
            "Epoch 19/100 (Validation): 100%|██████████| 180/180 [00:05<00:00, 31.46it/s]\n"
          ]
        },
        {
          "output_type": "stream",
          "name": "stdout",
          "text": [
            "Epoch: 19 \tTraining Loss: 1.52261637 \tValidation Loss 1.56449807 \tTraining Accuracy 41.046% \tValidation Accuracy 38.349%\n"
          ]
        },
        {
          "output_type": "stream",
          "name": "stderr",
          "text": [
            "Epoch 20/100 (Training): 100%|██████████| 718/718 [00:20<00:00, 34.21it/s]\n",
            "Epoch 20/100 (Validation): 100%|██████████| 180/180 [00:05<00:00, 33.66it/s]\n"
          ]
        },
        {
          "output_type": "stream",
          "name": "stdout",
          "text": [
            "Epoch: 20 \tTraining Loss: 1.51879508 \tValidation Loss 1.55081926 \tTraining Accuracy 41.481% \tValidation Accuracy 39.986%\n"
          ]
        },
        {
          "output_type": "stream",
          "name": "stderr",
          "text": [
            "Epoch 21/100 (Training): 100%|██████████| 718/718 [00:20<00:00, 34.21it/s]\n",
            "Epoch 21/100 (Validation): 100%|██████████| 180/180 [00:04<00:00, 37.18it/s]\n"
          ]
        },
        {
          "output_type": "stream",
          "name": "stdout",
          "text": [
            "Epoch: 21 \tTraining Loss: 1.50880467 \tValidation Loss 1.52797064 \tTraining Accuracy 41.634% \tValidation Accuracy 41.170%\n"
          ]
        },
        {
          "output_type": "stream",
          "name": "stderr",
          "text": [
            "Epoch 22/100 (Training): 100%|██████████| 718/718 [00:23<00:00, 31.21it/s]\n",
            "Epoch 22/100 (Validation): 100%|██████████| 180/180 [00:04<00:00, 43.45it/s]\n"
          ]
        },
        {
          "output_type": "stream",
          "name": "stdout",
          "text": [
            "Epoch: 22 \tTraining Loss: 1.50944935 \tValidation Loss 1.51074935 \tTraining Accuracy 41.712% \tValidation Accuracy 41.641%\n"
          ]
        },
        {
          "output_type": "stream",
          "name": "stderr",
          "text": [
            "Epoch 23/100 (Training): 100%|██████████| 718/718 [00:22<00:00, 32.56it/s]\n",
            "Epoch 23/100 (Validation): 100%|██████████| 180/180 [00:04<00:00, 44.30it/s]\n"
          ]
        },
        {
          "output_type": "stream",
          "name": "stdout",
          "text": [
            "Epoch: 23 \tTraining Loss: 1.50018296 \tValidation Loss 1.53276713 \tTraining Accuracy 42.491% \tValidation Accuracy 40.961%\n"
          ]
        },
        {
          "output_type": "stream",
          "name": "stderr",
          "text": [
            "Epoch 24/100 (Training): 100%|██████████| 718/718 [00:22<00:00, 32.57it/s]\n",
            "Epoch 24/100 (Validation): 100%|██████████| 180/180 [00:04<00:00, 43.51it/s]\n"
          ]
        },
        {
          "output_type": "stream",
          "name": "stdout",
          "text": [
            "Epoch: 24 \tTraining Loss: 1.48381930 \tValidation Loss 1.49623820 \tTraining Accuracy 42.783% \tValidation Accuracy 41.658%\n"
          ]
        },
        {
          "output_type": "stream",
          "name": "stderr",
          "text": [
            "Epoch 25/100 (Training): 100%|██████████| 718/718 [00:21<00:00, 32.71it/s]\n",
            "Epoch 25/100 (Validation): 100%|██████████| 180/180 [00:03<00:00, 45.42it/s]\n"
          ]
        },
        {
          "output_type": "stream",
          "name": "stdout",
          "text": [
            "Epoch: 25 \tTraining Loss: 1.48070107 \tValidation Loss 1.49633211 \tTraining Accuracy 42.809% \tValidation Accuracy 42.198%\n"
          ]
        },
        {
          "output_type": "stream",
          "name": "stderr",
          "text": [
            "Epoch 26/100 (Training): 100%|██████████| 718/718 [00:23<00:00, 30.69it/s]\n",
            "Epoch 26/100 (Validation): 100%|██████████| 180/180 [00:04<00:00, 44.05it/s]\n"
          ]
        },
        {
          "output_type": "stream",
          "name": "stdout",
          "text": [
            "Epoch: 26 \tTraining Loss: 1.47380878 \tValidation Loss 1.52960999 \tTraining Accuracy 42.944% \tValidation Accuracy 40.421%\n"
          ]
        },
        {
          "output_type": "stream",
          "name": "stderr",
          "text": [
            "Epoch 27/100 (Training): 100%|██████████| 718/718 [00:21<00:00, 33.40it/s]\n",
            "Epoch 27/100 (Validation): 100%|██████████| 180/180 [00:04<00:00, 41.02it/s]\n"
          ]
        },
        {
          "output_type": "stream",
          "name": "stdout",
          "text": [
            "Epoch: 27 \tTraining Loss: 1.47469505 \tValidation Loss 1.51429898 \tTraining Accuracy 43.223% \tValidation Accuracy 41.693%\n"
          ]
        },
        {
          "output_type": "stream",
          "name": "stderr",
          "text": [
            "Epoch 28/100 (Training): 100%|██████████| 718/718 [00:20<00:00, 34.30it/s]\n",
            "Epoch 28/100 (Validation): 100%|██████████| 180/180 [00:05<00:00, 33.69it/s]\n"
          ]
        },
        {
          "output_type": "stream",
          "name": "stdout",
          "text": [
            "Epoch: 28 \tTraining Loss: 1.47479931 \tValidation Loss 1.51320955 \tTraining Accuracy 43.467% \tValidation Accuracy 41.971%\n"
          ]
        },
        {
          "output_type": "stream",
          "name": "stderr",
          "text": [
            "Epoch 29/100 (Training): 100%|██████████| 718/718 [00:20<00:00, 34.91it/s]\n",
            "Epoch 29/100 (Validation): 100%|██████████| 180/180 [00:05<00:00, 32.07it/s]\n"
          ]
        },
        {
          "output_type": "stream",
          "name": "stdout",
          "text": [
            "Epoch: 29 \tTraining Loss: 1.47153577 \tValidation Loss 1.50669403 \tTraining Accuracy 43.245% \tValidation Accuracy 41.710%\n"
          ]
        },
        {
          "output_type": "stream",
          "name": "stderr",
          "text": [
            "Epoch 30/100 (Training): 100%|██████████| 718/718 [00:22<00:00, 32.21it/s]\n",
            "Epoch 30/100 (Validation): 100%|██████████| 180/180 [00:05<00:00, 32.32it/s]\n"
          ]
        },
        {
          "output_type": "stream",
          "name": "stdout",
          "text": [
            "Epoch: 30 \tTraining Loss: 1.45994340 \tValidation Loss 1.50336265 \tTraining Accuracy 43.785% \tValidation Accuracy 41.484%\n"
          ]
        },
        {
          "output_type": "stream",
          "name": "stderr",
          "text": [
            "Epoch 31/100 (Training): 100%|██████████| 718/718 [00:20<00:00, 34.78it/s]\n",
            "Epoch 31/100 (Validation): 100%|██████████| 180/180 [00:05<00:00, 34.14it/s]\n"
          ]
        },
        {
          "output_type": "stream",
          "name": "stdout",
          "text": [
            "Epoch: 31 \tTraining Loss: 1.45583509 \tValidation Loss 1.50410791 \tTraining Accuracy 44.002% \tValidation Accuracy 41.919%\n"
          ]
        },
        {
          "output_type": "stream",
          "name": "stderr",
          "text": [
            "Epoch 32/100 (Training): 100%|██████████| 718/718 [00:20<00:00, 34.35it/s]\n",
            "Epoch 32/100 (Validation): 100%|██████████| 180/180 [00:04<00:00, 44.57it/s]\n"
          ]
        },
        {
          "output_type": "stream",
          "name": "stdout",
          "text": [
            "Epoch: 32 \tTraining Loss: 1.45844396 \tValidation Loss 1.49604489 \tTraining Accuracy 43.854% \tValidation Accuracy 42.215%\n"
          ]
        },
        {
          "output_type": "stream",
          "name": "stderr",
          "text": [
            "Epoch 33/100 (Training): 100%|██████████| 718/718 [00:22<00:00, 32.56it/s]\n",
            "Epoch 33/100 (Validation): 100%|██████████| 180/180 [00:04<00:00, 44.03it/s]\n"
          ]
        },
        {
          "output_type": "stream",
          "name": "stdout",
          "text": [
            "Epoch: 33 \tTraining Loss: 1.45591333 \tValidation Loss 1.52410048 \tTraining Accuracy 44.046% \tValidation Accuracy 40.178%\n"
          ]
        },
        {
          "output_type": "stream",
          "name": "stderr",
          "text": [
            "Epoch 34/100 (Training): 100%|██████████| 718/718 [00:22<00:00, 32.56it/s]\n",
            "Epoch 34/100 (Validation): 100%|██████████| 180/180 [00:04<00:00, 44.43it/s]\n"
          ]
        },
        {
          "output_type": "stream",
          "name": "stdout",
          "text": [
            "Epoch: 34 \tTraining Loss: 1.44170184 \tValidation Loss 1.54919239 \tTraining Accuracy 44.594% \tValidation Accuracy 40.247%\n"
          ]
        },
        {
          "output_type": "stream",
          "name": "stderr",
          "text": [
            "Epoch 35/100 (Training): 100%|██████████| 718/718 [00:23<00:00, 30.19it/s]\n",
            "Epoch 35/100 (Validation): 100%|██████████| 180/180 [00:04<00:00, 44.81it/s]\n"
          ]
        },
        {
          "output_type": "stream",
          "name": "stdout",
          "text": [
            "Epoch: 35 \tTraining Loss: 1.44339769 \tValidation Loss 1.47335290 \tTraining Accuracy 44.686% \tValidation Accuracy 43.452%\n"
          ]
        },
        {
          "output_type": "stream",
          "name": "stderr",
          "text": [
            "Epoch 36/100 (Training): 100%|██████████| 718/718 [00:21<00:00, 33.84it/s]\n",
            "Epoch 36/100 (Validation): 100%|██████████| 180/180 [00:04<00:00, 36.13it/s]\n"
          ]
        },
        {
          "output_type": "stream",
          "name": "stdout",
          "text": [
            "Epoch: 36 \tTraining Loss: 1.44623427 \tValidation Loss 1.49140109 \tTraining Accuracy 44.777% \tValidation Accuracy 42.877%\n"
          ]
        },
        {
          "output_type": "stream",
          "name": "stderr",
          "text": [
            "Epoch 37/100 (Training): 100%|██████████| 718/718 [00:20<00:00, 34.65it/s]\n",
            "Epoch 37/100 (Validation): 100%|██████████| 180/180 [00:05<00:00, 32.84it/s]\n"
          ]
        },
        {
          "output_type": "stream",
          "name": "stdout",
          "text": [
            "Epoch: 37 \tTraining Loss: 1.44744599 \tValidation Loss 1.48008789 \tTraining Accuracy 44.146% \tValidation Accuracy 43.103%\n"
          ]
        },
        {
          "output_type": "stream",
          "name": "stderr",
          "text": [
            "Epoch 38/100 (Training): 100%|██████████| 718/718 [00:20<00:00, 35.20it/s]\n",
            "Epoch 38/100 (Validation): 100%|██████████| 180/180 [00:05<00:00, 33.94it/s]\n"
          ]
        },
        {
          "output_type": "stream",
          "name": "stdout",
          "text": [
            "Epoch: 38 \tTraining Loss: 1.44724771 \tValidation Loss 1.49087237 \tTraining Accuracy 44.503% \tValidation Accuracy 42.825%\n"
          ]
        },
        {
          "output_type": "stream",
          "name": "stderr",
          "text": [
            "Epoch 39/100 (Training): 100%|██████████| 718/718 [00:22<00:00, 31.80it/s]\n",
            "Epoch 39/100 (Validation): 100%|██████████| 180/180 [00:03<00:00, 45.01it/s]\n"
          ]
        },
        {
          "output_type": "stream",
          "name": "stdout",
          "text": [
            "Epoch: 39 \tTraining Loss: 1.43948366 \tValidation Loss 1.49896668 \tTraining Accuracy 44.856% \tValidation Accuracy 42.093%\n"
          ]
        },
        {
          "output_type": "stream",
          "name": "stderr",
          "text": [
            "Epoch 40/100 (Training): 100%|██████████| 718/718 [00:21<00:00, 32.65it/s]\n",
            "Epoch 40/100 (Validation): 100%|██████████| 180/180 [00:04<00:00, 42.81it/s]\n"
          ]
        },
        {
          "output_type": "stream",
          "name": "stdout",
          "text": [
            "Epoch: 40 \tTraining Loss: 1.43068824 \tValidation Loss 1.52875728 \tTraining Accuracy 45.121% \tValidation Accuracy 41.327%\n"
          ]
        },
        {
          "output_type": "stream",
          "name": "stderr",
          "text": [
            "Epoch 41/100 (Training): 100%|██████████| 718/718 [00:22<00:00, 32.49it/s]\n",
            "Epoch 41/100 (Validation): 100%|██████████| 180/180 [00:04<00:00, 44.77it/s]\n"
          ]
        },
        {
          "output_type": "stream",
          "name": "stdout",
          "text": [
            "Epoch: 41 \tTraining Loss: 1.45629266 \tValidation Loss 1.56322494 \tTraining Accuracy 44.015% \tValidation Accuracy 40.543%\n"
          ]
        },
        {
          "output_type": "stream",
          "name": "stderr",
          "text": [
            "Epoch 42/100 (Training): 100%|██████████| 718/718 [00:22<00:00, 32.49it/s]\n",
            "Epoch 42/100 (Validation): 100%|██████████| 180/180 [00:04<00:00, 44.20it/s]\n"
          ]
        },
        {
          "output_type": "stream",
          "name": "stdout",
          "text": [
            "Epoch: 42 \tTraining Loss: 1.44932929 \tValidation Loss 1.49831174 \tTraining Accuracy 44.159% \tValidation Accuracy 41.675%\n"
          ]
        },
        {
          "output_type": "stream",
          "name": "stderr",
          "text": [
            "Epoch 43/100 (Training): 100%|██████████| 718/718 [00:21<00:00, 32.75it/s]\n",
            "Epoch 43/100 (Validation): 100%|██████████| 180/180 [00:05<00:00, 30.42it/s]\n"
          ]
        },
        {
          "output_type": "stream",
          "name": "stdout",
          "text": [
            "Epoch: 43 \tTraining Loss: 1.45091424 \tValidation Loss 1.49219810 \tTraining Accuracy 44.115% \tValidation Accuracy 42.198%\n"
          ]
        },
        {
          "output_type": "stream",
          "name": "stderr",
          "text": [
            "Epoch 44/100 (Training): 100%|██████████| 718/718 [00:21<00:00, 33.27it/s]\n",
            "Epoch 44/100 (Validation): 100%|██████████| 180/180 [00:04<00:00, 41.07it/s]\n"
          ]
        },
        {
          "output_type": "stream",
          "name": "stdout",
          "text": [
            "Epoch: 44 \tTraining Loss: 1.43099148 \tValidation Loss 1.49218305 \tTraining Accuracy 44.969% \tValidation Accuracy 42.355%\n"
          ]
        },
        {
          "output_type": "stream",
          "name": "stderr",
          "text": [
            "Epoch 45/100 (Training): 100%|██████████| 718/718 [00:20<00:00, 34.25it/s]\n",
            "Epoch 45/100 (Validation): 100%|██████████| 180/180 [00:05<00:00, 33.09it/s]\n"
          ]
        },
        {
          "output_type": "stream",
          "name": "stdout",
          "text": [
            "Epoch: 45 \tTraining Loss: 1.43611252 \tValidation Loss 1.52020012 \tTraining Accuracy 44.742% \tValidation Accuracy 40.700%\n"
          ]
        },
        {
          "output_type": "stream",
          "name": "stderr",
          "text": [
            "Epoch 46/100 (Training): 100%|██████████| 718/718 [00:20<00:00, 34.59it/s]\n",
            "Epoch 46/100 (Validation): 100%|██████████| 180/180 [00:05<00:00, 31.90it/s]\n"
          ]
        },
        {
          "output_type": "stream",
          "name": "stdout",
          "text": [
            "Epoch: 46 \tTraining Loss: 1.43613801 \tValidation Loss 1.51567620 \tTraining Accuracy 45.108% \tValidation Accuracy 42.198%\n"
          ]
        },
        {
          "output_type": "stream",
          "name": "stderr",
          "text": [
            "Epoch 47/100 (Training): 100%|██████████| 718/718 [00:20<00:00, 34.66it/s]\n",
            "Epoch 47/100 (Validation): 100%|██████████| 180/180 [00:05<00:00, 33.40it/s]\n"
          ]
        },
        {
          "output_type": "stream",
          "name": "stdout",
          "text": [
            "Epoch: 47 \tTraining Loss: 1.42743617 \tValidation Loss 1.55569484 \tTraining Accuracy 45.365% \tValidation Accuracy 40.091%\n"
          ]
        },
        {
          "output_type": "stream",
          "name": "stderr",
          "text": [
            "Epoch 48/100 (Training): 100%|██████████| 718/718 [00:22<00:00, 31.91it/s]\n",
            "Epoch 48/100 (Validation): 100%|██████████| 180/180 [00:05<00:00, 33.68it/s]\n"
          ]
        },
        {
          "output_type": "stream",
          "name": "stdout",
          "text": [
            "Epoch: 48 \tTraining Loss: 1.42244632 \tValidation Loss 1.47518974 \tTraining Accuracy 45.587% \tValidation Accuracy 42.459%\n"
          ]
        },
        {
          "output_type": "stream",
          "name": "stderr",
          "text": [
            "Epoch 49/100 (Training): 100%|██████████| 718/718 [00:20<00:00, 34.33it/s]\n",
            "Epoch 49/100 (Validation): 100%|██████████| 180/180 [00:04<00:00, 40.73it/s]\n"
          ]
        },
        {
          "output_type": "stream",
          "name": "stdout",
          "text": [
            "Epoch: 49 \tTraining Loss: 1.42099183 \tValidation Loss 1.49200046 \tTraining Accuracy 45.378% \tValidation Accuracy 42.773%\n"
          ]
        },
        {
          "output_type": "stream",
          "name": "stderr",
          "text": [
            "Epoch 50/100 (Training): 100%|██████████| 718/718 [00:21<00:00, 33.03it/s]\n",
            "Epoch 50/100 (Validation): 100%|██████████| 180/180 [00:03<00:00, 45.26it/s]\n"
          ]
        },
        {
          "output_type": "stream",
          "name": "stdout",
          "text": [
            "Epoch: 50 \tTraining Loss: 1.41702813 \tValidation Loss 1.45180575 \tTraining Accuracy 45.670% \tValidation Accuracy 44.183%\n"
          ]
        },
        {
          "output_type": "stream",
          "name": "stderr",
          "text": [
            "Epoch 51/100 (Training): 100%|██████████| 718/718 [00:21<00:00, 32.74it/s]\n",
            "Epoch 51/100 (Validation): 100%|██████████| 180/180 [00:03<00:00, 45.20it/s]\n"
          ]
        },
        {
          "output_type": "stream",
          "name": "stdout",
          "text": [
            "Epoch: 51 \tTraining Loss: 1.41461750 \tValidation Loss 1.49628351 \tTraining Accuracy 45.744% \tValidation Accuracy 41.797%\n"
          ]
        },
        {
          "output_type": "stream",
          "name": "stderr",
          "text": [
            "Epoch 52/100 (Training): 100%|██████████| 718/718 [00:23<00:00, 30.58it/s]\n",
            "Epoch 52/100 (Validation): 100%|██████████| 180/180 [00:04<00:00, 44.00it/s]\n"
          ]
        },
        {
          "output_type": "stream",
          "name": "stdout",
          "text": [
            "Epoch: 52 \tTraining Loss: 1.42535063 \tValidation Loss 1.47711562 \tTraining Accuracy 45.517% \tValidation Accuracy 43.278%\n"
          ]
        },
        {
          "output_type": "stream",
          "name": "stderr",
          "text": [
            "Epoch 53/100 (Training): 100%|██████████| 718/718 [00:21<00:00, 32.95it/s]\n",
            "Epoch 53/100 (Validation): 100%|██████████| 180/180 [00:04<00:00, 42.57it/s]\n"
          ]
        },
        {
          "output_type": "stream",
          "name": "stdout",
          "text": [
            "Epoch: 53 \tTraining Loss: 1.41673103 \tValidation Loss 1.49362404 \tTraining Accuracy 45.718% \tValidation Accuracy 43.016%\n"
          ]
        },
        {
          "output_type": "stream",
          "name": "stderr",
          "text": [
            "Epoch 54/100 (Training): 100%|██████████| 718/718 [00:21<00:00, 33.90it/s]\n",
            "Epoch 54/100 (Validation): 100%|██████████| 180/180 [00:05<00:00, 34.09it/s]\n"
          ]
        },
        {
          "output_type": "stream",
          "name": "stdout",
          "text": [
            "Epoch: 54 \tTraining Loss: 1.41296703 \tValidation Loss 1.50226783 \tTraining Accuracy 45.740% \tValidation Accuracy 42.076%\n"
          ]
        },
        {
          "output_type": "stream",
          "name": "stderr",
          "text": [
            "Epoch 55/100 (Training): 100%|██████████| 718/718 [00:20<00:00, 34.91it/s]\n",
            "Epoch 55/100 (Validation): 100%|██████████| 180/180 [00:05<00:00, 32.79it/s]\n"
          ]
        },
        {
          "output_type": "stream",
          "name": "stdout",
          "text": [
            "Epoch: 55 \tTraining Loss: 1.42333727 \tValidation Loss 1.47633123 \tTraining Accuracy 45.565% \tValidation Accuracy 42.842%\n"
          ]
        },
        {
          "output_type": "stream",
          "name": "stderr",
          "text": [
            "Epoch 56/100 (Training): 100%|██████████| 718/718 [00:20<00:00, 35.10it/s]\n",
            "Epoch 56/100 (Validation): 100%|██████████| 180/180 [00:04<00:00, 36.35it/s]\n"
          ]
        },
        {
          "output_type": "stream",
          "name": "stdout",
          "text": [
            "Epoch: 56 \tTraining Loss: 1.41987501 \tValidation Loss 1.49870715 \tTraining Accuracy 45.679% \tValidation Accuracy 42.024%\n"
          ]
        },
        {
          "output_type": "stream",
          "name": "stderr",
          "text": [
            "Epoch 57/100 (Training): 100%|██████████| 718/718 [00:22<00:00, 31.95it/s]\n",
            "Epoch 57/100 (Validation): 100%|██████████| 180/180 [00:04<00:00, 43.90it/s]\n"
          ]
        },
        {
          "output_type": "stream",
          "name": "stdout",
          "text": [
            "Epoch: 57 \tTraining Loss: 1.40913152 \tValidation Loss 1.48381946 \tTraining Accuracy 45.861% \tValidation Accuracy 42.703%\n"
          ]
        },
        {
          "output_type": "stream",
          "name": "stderr",
          "text": [
            "Epoch 58/100 (Training): 100%|██████████| 718/718 [00:22<00:00, 31.75it/s]\n",
            "Epoch 58/100 (Validation): 100%|██████████| 180/180 [00:04<00:00, 42.74it/s]\n"
          ]
        },
        {
          "output_type": "stream",
          "name": "stdout",
          "text": [
            "Epoch: 58 \tTraining Loss: 1.41459219 \tValidation Loss 1.46058792 \tTraining Accuracy 45.822% \tValidation Accuracy 44.166%\n"
          ]
        },
        {
          "output_type": "stream",
          "name": "stderr",
          "text": [
            "Epoch 59/100 (Training): 100%|██████████| 718/718 [00:22<00:00, 31.81it/s]\n",
            "Epoch 59/100 (Validation): 100%|██████████| 180/180 [00:04<00:00, 42.79it/s]\n"
          ]
        },
        {
          "output_type": "stream",
          "name": "stdout",
          "text": [
            "Epoch: 59 \tTraining Loss: 1.40482099 \tValidation Loss 1.49024249 \tTraining Accuracy 45.940% \tValidation Accuracy 42.964%\n"
          ]
        },
        {
          "output_type": "stream",
          "name": "stderr",
          "text": [
            "Epoch 60/100 (Training): 100%|██████████| 718/718 [00:22<00:00, 32.48it/s]\n",
            "Epoch 60/100 (Validation): 100%|██████████| 180/180 [00:04<00:00, 44.10it/s]\n"
          ]
        },
        {
          "output_type": "stream",
          "name": "stdout",
          "text": [
            "Epoch: 60 \tTraining Loss: 1.42847825 \tValidation Loss 1.49879633 \tTraining Accuracy 45.234% \tValidation Accuracy 41.815%\n"
          ]
        },
        {
          "output_type": "stream",
          "name": "stderr",
          "text": [
            "Epoch 61/100 (Training): 100%|██████████| 718/718 [00:23<00:00, 30.40it/s]\n",
            "Epoch 61/100 (Validation): 100%|██████████| 180/180 [00:04<00:00, 38.63it/s]\n"
          ]
        },
        {
          "output_type": "stream",
          "name": "stdout",
          "text": [
            "Epoch: 61 \tTraining Loss: 1.41730950 \tValidation Loss 1.49963804 \tTraining Accuracy 45.500% \tValidation Accuracy 41.780%\n"
          ]
        },
        {
          "output_type": "stream",
          "name": "stderr",
          "text": [
            "Epoch 62/100 (Training): 100%|██████████| 718/718 [00:20<00:00, 34.97it/s]\n",
            "Epoch 62/100 (Validation): 100%|██████████| 180/180 [00:05<00:00, 31.94it/s]\n"
          ]
        },
        {
          "output_type": "stream",
          "name": "stdout",
          "text": [
            "Epoch: 62 \tTraining Loss: 1.40259481 \tValidation Loss 1.46726630 \tTraining Accuracy 46.275% \tValidation Accuracy 43.400%\n"
          ]
        },
        {
          "output_type": "stream",
          "name": "stderr",
          "text": [
            "Epoch 63/100 (Training): 100%|██████████| 718/718 [00:20<00:00, 35.02it/s]\n",
            "Epoch 63/100 (Validation): 100%|██████████| 180/180 [00:05<00:00, 32.03it/s]\n"
          ]
        },
        {
          "output_type": "stream",
          "name": "stdout",
          "text": [
            "Epoch: 63 \tTraining Loss: 1.40711023 \tValidation Loss 1.49095266 \tTraining Accuracy 46.188% \tValidation Accuracy 42.250%\n"
          ]
        },
        {
          "output_type": "stream",
          "name": "stderr",
          "text": [
            "Epoch 64/100 (Training): 100%|██████████| 718/718 [00:20<00:00, 34.80it/s]\n",
            "Epoch 64/100 (Validation): 100%|██████████| 180/180 [00:04<00:00, 38.11it/s]\n"
          ]
        },
        {
          "output_type": "stream",
          "name": "stdout",
          "text": [
            "Epoch: 64 \tTraining Loss: 1.41174922 \tValidation Loss 1.48119538 \tTraining Accuracy 45.853% \tValidation Accuracy 42.807%\n"
          ]
        },
        {
          "output_type": "stream",
          "name": "stderr",
          "text": [
            "Epoch 65/100 (Training): 100%|██████████| 718/718 [00:22<00:00, 31.26it/s]\n",
            "Epoch 65/100 (Validation): 100%|██████████| 180/180 [00:04<00:00, 38.61it/s]\n"
          ]
        },
        {
          "output_type": "stream",
          "name": "stdout",
          "text": [
            "Epoch: 65 \tTraining Loss: 1.41132214 \tValidation Loss 1.46637922 \tTraining Accuracy 45.970% \tValidation Accuracy 43.765%\n"
          ]
        },
        {
          "output_type": "stream",
          "name": "stderr",
          "text": [
            "Epoch 66/100 (Training): 100%|██████████| 718/718 [00:21<00:00, 34.03it/s]\n",
            "Epoch 66/100 (Validation): 100%|██████████| 180/180 [00:04<00:00, 43.49it/s]\n"
          ]
        },
        {
          "output_type": "stream",
          "name": "stdout",
          "text": [
            "Epoch: 66 \tTraining Loss: 1.41396097 \tValidation Loss 1.47427924 \tTraining Accuracy 46.153% \tValidation Accuracy 43.138%\n"
          ]
        },
        {
          "output_type": "stream",
          "name": "stderr",
          "text": [
            "Epoch 67/100 (Training): 100%|██████████| 718/718 [00:21<00:00, 32.95it/s]\n",
            "Epoch 67/100 (Validation): 100%|██████████| 180/180 [00:04<00:00, 44.32it/s]\n"
          ]
        },
        {
          "output_type": "stream",
          "name": "stdout",
          "text": [
            "Epoch: 67 \tTraining Loss: 1.41928874 \tValidation Loss 1.50260542 \tTraining Accuracy 45.274% \tValidation Accuracy 42.093%\n"
          ]
        },
        {
          "output_type": "stream",
          "name": "stderr",
          "text": [
            "Epoch 68/100 (Training): 100%|██████████| 718/718 [00:21<00:00, 32.64it/s]\n",
            "Epoch 68/100 (Validation): 100%|██████████| 180/180 [00:04<00:00, 44.68it/s]\n"
          ]
        },
        {
          "output_type": "stream",
          "name": "stdout",
          "text": [
            "Epoch: 68 \tTraining Loss: 1.41887119 \tValidation Loss 1.51338331 \tTraining Accuracy 45.670% \tValidation Accuracy 41.048%\n"
          ]
        },
        {
          "output_type": "stream",
          "name": "stderr",
          "text": [
            "Epoch 69/100 (Training): 100%|██████████| 718/718 [00:21<00:00, 32.91it/s]\n",
            "Epoch 69/100 (Validation): 100%|██████████| 180/180 [00:04<00:00, 44.79it/s]\n"
          ]
        },
        {
          "output_type": "stream",
          "name": "stdout",
          "text": [
            "Epoch: 69 \tTraining Loss: 1.41943790 \tValidation Loss 1.50903323 \tTraining Accuracy 45.531% \tValidation Accuracy 42.964%\n"
          ]
        },
        {
          "output_type": "stream",
          "name": "stderr",
          "text": [
            "Epoch 70/100 (Training): 100%|██████████| 718/718 [00:23<00:00, 31.19it/s]\n",
            "Epoch 70/100 (Validation): 100%|██████████| 180/180 [00:04<00:00, 39.06it/s]\n"
          ]
        },
        {
          "output_type": "stream",
          "name": "stdout",
          "text": [
            "Epoch: 70 \tTraining Loss: 1.40831351 \tValidation Loss 1.51764946 \tTraining Accuracy 45.909% \tValidation Accuracy 43.260%\n"
          ]
        },
        {
          "output_type": "stream",
          "name": "stderr",
          "text": [
            "Epoch 71/100 (Training): 100%|██████████| 718/718 [00:20<00:00, 34.71it/s]\n",
            "Epoch 71/100 (Validation): 100%|██████████| 180/180 [00:05<00:00, 32.15it/s]\n"
          ]
        },
        {
          "output_type": "stream",
          "name": "stdout",
          "text": [
            "Epoch: 71 \tTraining Loss: 1.42342508 \tValidation Loss 1.49449161 \tTraining Accuracy 45.291% \tValidation Accuracy 41.971%\n"
          ]
        },
        {
          "output_type": "stream",
          "name": "stderr",
          "text": [
            "Epoch 72/100 (Training): 100%|██████████| 718/718 [00:20<00:00, 34.82it/s]\n",
            "Epoch 72/100 (Validation): 100%|██████████| 180/180 [00:05<00:00, 32.18it/s]\n"
          ]
        },
        {
          "output_type": "stream",
          "name": "stdout",
          "text": [
            "Epoch: 72 \tTraining Loss: 1.40879702 \tValidation Loss 1.49917910 \tTraining Accuracy 46.171% \tValidation Accuracy 41.728%\n"
          ]
        },
        {
          "output_type": "stream",
          "name": "stderr",
          "text": [
            "Epoch 73/100 (Training): 100%|██████████| 718/718 [00:20<00:00, 35.29it/s]\n",
            "Epoch 73/100 (Validation): 100%|██████████| 180/180 [00:04<00:00, 37.54it/s]\n"
          ]
        },
        {
          "output_type": "stream",
          "name": "stdout",
          "text": [
            "Epoch: 73 \tTraining Loss: 1.40826105 \tValidation Loss 1.49758396 \tTraining Accuracy 46.288% \tValidation Accuracy 42.093%\n"
          ]
        },
        {
          "output_type": "stream",
          "name": "stderr",
          "text": [
            "Epoch 74/100 (Training): 100%|██████████| 718/718 [00:22<00:00, 31.57it/s]\n",
            "Epoch 74/100 (Validation): 100%|██████████| 180/180 [00:03<00:00, 45.53it/s]\n"
          ]
        },
        {
          "output_type": "stream",
          "name": "stdout",
          "text": [
            "Epoch: 74 \tTraining Loss: 1.40727693 \tValidation Loss 1.51199732 \tTraining Accuracy 45.914% \tValidation Accuracy 41.449%\n"
          ]
        },
        {
          "output_type": "stream",
          "name": "stderr",
          "text": [
            "Epoch 75/100 (Training): 100%|██████████| 718/718 [00:21<00:00, 32.97it/s]\n",
            "Epoch 75/100 (Validation): 100%|██████████| 180/180 [00:04<00:00, 44.49it/s]\n"
          ]
        },
        {
          "output_type": "stream",
          "name": "stdout",
          "text": [
            "Epoch: 75 \tTraining Loss: 1.40578499 \tValidation Loss 1.48129138 \tTraining Accuracy 46.436% \tValidation Accuracy 43.521%\n"
          ]
        },
        {
          "output_type": "stream",
          "name": "stderr",
          "text": [
            "Epoch 76/100 (Training): 100%|██████████| 718/718 [00:21<00:00, 33.10it/s]\n",
            "Epoch 76/100 (Validation): 100%|██████████| 180/180 [00:03<00:00, 45.26it/s]\n"
          ]
        },
        {
          "output_type": "stream",
          "name": "stdout",
          "text": [
            "Epoch: 76 \tTraining Loss: 1.40135607 \tValidation Loss 1.50631594 \tTraining Accuracy 46.562% \tValidation Accuracy 42.860%\n"
          ]
        },
        {
          "output_type": "stream",
          "name": "stderr",
          "text": [
            "Epoch 77/100 (Training): 100%|██████████| 718/718 [00:21<00:00, 34.13it/s]\n",
            "Epoch 77/100 (Validation): 100%|██████████| 180/180 [00:04<00:00, 36.92it/s]\n"
          ]
        },
        {
          "output_type": "stream",
          "name": "stdout",
          "text": [
            "Epoch: 77 \tTraining Loss: 1.40441788 \tValidation Loss 1.52869085 \tTraining Accuracy 46.105% \tValidation Accuracy 42.964%\n"
          ]
        },
        {
          "output_type": "stream",
          "name": "stderr",
          "text": [
            "Epoch 78/100 (Training): 100%|██████████| 718/718 [00:20<00:00, 35.50it/s]\n",
            "Epoch 78/100 (Validation): 100%|██████████| 180/180 [00:06<00:00, 29.55it/s]\n"
          ]
        },
        {
          "output_type": "stream",
          "name": "stdout",
          "text": [
            "Epoch: 78 \tTraining Loss: 1.40601306 \tValidation Loss 1.48145741 \tTraining Accuracy 46.075% \tValidation Accuracy 43.887%\n"
          ]
        },
        {
          "output_type": "stream",
          "name": "stderr",
          "text": [
            "Epoch 79/100 (Training): 100%|██████████| 718/718 [00:21<00:00, 33.69it/s]\n",
            "Epoch 79/100 (Validation): 100%|██████████| 180/180 [00:05<00:00, 32.92it/s]\n"
          ]
        },
        {
          "output_type": "stream",
          "name": "stdout",
          "text": [
            "Epoch: 79 \tTraining Loss: 1.39547146 \tValidation Loss 1.47973337 \tTraining Accuracy 46.423% \tValidation Accuracy 43.452%\n"
          ]
        },
        {
          "output_type": "stream",
          "name": "stderr",
          "text": [
            "Epoch 80/100 (Training): 100%|██████████| 718/718 [00:20<00:00, 35.41it/s]\n",
            "Epoch 80/100 (Validation): 100%|██████████| 180/180 [00:04<00:00, 37.38it/s]\n"
          ]
        },
        {
          "output_type": "stream",
          "name": "stdout",
          "text": [
            "Epoch: 80 \tTraining Loss: 1.40068354 \tValidation Loss 1.50038808 \tTraining Accuracy 46.471% \tValidation Accuracy 41.710%\n"
          ]
        },
        {
          "output_type": "stream",
          "name": "stderr",
          "text": [
            "Epoch 81/100 (Training): 100%|██████████| 718/718 [00:21<00:00, 34.13it/s]\n",
            "Epoch 81/100 (Validation): 100%|██████████| 180/180 [00:03<00:00, 46.14it/s]\n"
          ]
        },
        {
          "output_type": "stream",
          "name": "stdout",
          "text": [
            "Epoch: 81 \tTraining Loss: 1.40139771 \tValidation Loss 1.49043539 \tTraining Accuracy 46.480% \tValidation Accuracy 43.400%\n"
          ]
        },
        {
          "output_type": "stream",
          "name": "stderr",
          "text": [
            "Epoch 82/100 (Training): 100%|██████████| 718/718 [00:21<00:00, 33.04it/s]\n",
            "Epoch 82/100 (Validation): 100%|██████████| 180/180 [00:04<00:00, 44.45it/s]\n"
          ]
        },
        {
          "output_type": "stream",
          "name": "stdout",
          "text": [
            "Epoch: 82 \tTraining Loss: 1.40271378 \tValidation Loss 1.48932920 \tTraining Accuracy 46.245% \tValidation Accuracy 43.103%\n"
          ]
        },
        {
          "output_type": "stream",
          "name": "stderr",
          "text": [
            "Epoch 83/100 (Training): 100%|██████████| 718/718 [00:23<00:00, 30.32it/s]\n",
            "Epoch 83/100 (Validation): 100%|██████████| 180/180 [00:04<00:00, 44.30it/s]\n"
          ]
        },
        {
          "output_type": "stream",
          "name": "stdout",
          "text": [
            "Epoch: 83 \tTraining Loss: 1.39315741 \tValidation Loss 1.50112045 \tTraining Accuracy 46.902% \tValidation Accuracy 41.954%\n"
          ]
        },
        {
          "output_type": "stream",
          "name": "stderr",
          "text": [
            "Epoch 84/100 (Training): 100%|██████████| 718/718 [00:22<00:00, 32.52it/s]\n",
            "Epoch 84/100 (Validation): 100%|██████████| 180/180 [00:04<00:00, 44.29it/s]\n"
          ]
        },
        {
          "output_type": "stream",
          "name": "stdout",
          "text": [
            "Epoch: 84 \tTraining Loss: 1.39340512 \tValidation Loss 1.48749434 \tTraining Accuracy 46.750% \tValidation Accuracy 43.417%\n"
          ]
        },
        {
          "output_type": "stream",
          "name": "stderr",
          "text": [
            "Epoch 85/100 (Training): 100%|██████████| 718/718 [00:21<00:00, 33.03it/s]\n",
            "Epoch 85/100 (Validation): 100%|██████████| 180/180 [00:04<00:00, 44.87it/s]\n"
          ]
        },
        {
          "output_type": "stream",
          "name": "stdout",
          "text": [
            "Epoch: 85 \tTraining Loss: 1.40217330 \tValidation Loss 1.48570139 \tTraining Accuracy 46.271% \tValidation Accuracy 42.912%\n"
          ]
        },
        {
          "output_type": "stream",
          "name": "stderr",
          "text": [
            "Epoch 86/100 (Training): 100%|██████████| 718/718 [00:20<00:00, 34.35it/s]\n",
            "Epoch 86/100 (Validation): 100%|██████████| 180/180 [00:05<00:00, 34.88it/s]\n"
          ]
        },
        {
          "output_type": "stream",
          "name": "stdout",
          "text": [
            "Epoch: 86 \tTraining Loss: 1.39891885 \tValidation Loss 1.47128614 \tTraining Accuracy 46.493% \tValidation Accuracy 43.504%\n"
          ]
        },
        {
          "output_type": "stream",
          "name": "stderr",
          "text": [
            "Epoch 87/100 (Training): 100%|██████████| 718/718 [00:20<00:00, 35.83it/s]\n",
            "Epoch 87/100 (Validation): 100%|██████████| 180/180 [00:06<00:00, 27.23it/s]\n"
          ]
        },
        {
          "output_type": "stream",
          "name": "stdout",
          "text": [
            "Epoch: 87 \tTraining Loss: 1.39531898 \tValidation Loss 1.52730094 \tTraining Accuracy 45.983% \tValidation Accuracy 42.006%\n"
          ]
        },
        {
          "output_type": "stream",
          "name": "stderr",
          "text": [
            "Epoch 88/100 (Training): 100%|██████████| 718/718 [00:21<00:00, 34.12it/s]\n",
            "Epoch 88/100 (Validation): 100%|██████████| 180/180 [00:03<00:00, 46.44it/s]\n"
          ]
        },
        {
          "output_type": "stream",
          "name": "stdout",
          "text": [
            "Epoch: 88 \tTraining Loss: 1.39811681 \tValidation Loss 1.48808955 \tTraining Accuracy 46.293% \tValidation Accuracy 43.591%\n"
          ]
        },
        {
          "output_type": "stream",
          "name": "stderr",
          "text": [
            "Epoch 89/100 (Training): 100%|██████████| 718/718 [00:21<00:00, 32.83it/s]\n",
            "Epoch 89/100 (Validation): 100%|██████████| 180/180 [00:04<00:00, 44.01it/s]\n"
          ]
        },
        {
          "output_type": "stream",
          "name": "stdout",
          "text": [
            "Epoch: 89 \tTraining Loss: 1.39471791 \tValidation Loss 1.47756121 \tTraining Accuracy 46.580% \tValidation Accuracy 42.964%\n"
          ]
        },
        {
          "output_type": "stream",
          "name": "stderr",
          "text": [
            "Epoch 90/100 (Training): 100%|██████████| 718/718 [00:21<00:00, 33.05it/s]\n",
            "Epoch 90/100 (Validation): 100%|██████████| 180/180 [00:03<00:00, 45.87it/s]\n"
          ]
        },
        {
          "output_type": "stream",
          "name": "stdout",
          "text": [
            "Epoch: 90 \tTraining Loss: 1.39366688 \tValidation Loss 1.48521262 \tTraining Accuracy 46.493% \tValidation Accuracy 43.783%\n"
          ]
        },
        {
          "output_type": "stream",
          "name": "stderr",
          "text": [
            "Epoch 91/100 (Training): 100%|██████████| 718/718 [00:21<00:00, 32.93it/s]\n",
            "Epoch 91/100 (Validation): 100%|██████████| 180/180 [00:04<00:00, 43.80it/s]\n"
          ]
        },
        {
          "output_type": "stream",
          "name": "stdout",
          "text": [
            "Epoch: 91 \tTraining Loss: 1.40166048 \tValidation Loss 1.48084721 \tTraining Accuracy 45.909% \tValidation Accuracy 42.929%\n"
          ]
        },
        {
          "output_type": "stream",
          "name": "stderr",
          "text": [
            "Epoch 92/100 (Training): 100%|██████████| 718/718 [00:23<00:00, 30.93it/s]\n",
            "Epoch 92/100 (Validation): 100%|██████████| 180/180 [00:03<00:00, 46.19it/s]\n"
          ]
        },
        {
          "output_type": "stream",
          "name": "stdout",
          "text": [
            "Epoch: 92 \tTraining Loss: 1.39488697 \tValidation Loss 1.46594000 \tTraining Accuracy 46.641% \tValidation Accuracy 43.382%\n"
          ]
        },
        {
          "output_type": "stream",
          "name": "stderr",
          "text": [
            "Epoch 93/100 (Training): 100%|██████████| 718/718 [00:20<00:00, 34.73it/s]\n",
            "Epoch 93/100 (Validation): 100%|██████████| 180/180 [00:05<00:00, 34.76it/s]\n"
          ]
        },
        {
          "output_type": "stream",
          "name": "stdout",
          "text": [
            "Epoch: 93 \tTraining Loss: 1.39469104 \tValidation Loss 1.49210392 \tTraining Accuracy 46.162% \tValidation Accuracy 42.703%\n"
          ]
        },
        {
          "output_type": "stream",
          "name": "stderr",
          "text": [
            "Epoch 94/100 (Training): 100%|██████████| 718/718 [00:20<00:00, 35.69it/s]\n",
            "Epoch 94/100 (Validation): 100%|██████████| 180/180 [00:05<00:00, 32.60it/s]\n"
          ]
        },
        {
          "output_type": "stream",
          "name": "stdout",
          "text": [
            "Epoch: 94 \tTraining Loss: 1.38642361 \tValidation Loss 1.47467994 \tTraining Accuracy 46.745% \tValidation Accuracy 43.905%\n"
          ]
        },
        {
          "output_type": "stream",
          "name": "stderr",
          "text": [
            "Epoch 95/100 (Training): 100%|██████████| 718/718 [00:20<00:00, 35.04it/s]\n",
            "Epoch 95/100 (Validation): 100%|██████████| 180/180 [00:04<00:00, 37.96it/s]\n"
          ]
        },
        {
          "output_type": "stream",
          "name": "stdout",
          "text": [
            "Epoch: 95 \tTraining Loss: 1.39288520 \tValidation Loss 1.48798439 \tTraining Accuracy 46.697% \tValidation Accuracy 43.713%\n"
          ]
        },
        {
          "output_type": "stream",
          "name": "stderr",
          "text": [
            "Epoch 96/100 (Training): 100%|██████████| 718/718 [00:21<00:00, 33.73it/s]\n",
            "Epoch 96/100 (Validation): 100%|██████████| 180/180 [00:06<00:00, 28.33it/s]\n"
          ]
        },
        {
          "output_type": "stream",
          "name": "stdout",
          "text": [
            "Epoch: 96 \tTraining Loss: 1.39341966 \tValidation Loss 1.46702220 \tTraining Accuracy 46.523% \tValidation Accuracy 43.452%\n"
          ]
        },
        {
          "output_type": "stream",
          "name": "stderr",
          "text": [
            "Epoch 97/100 (Training): 100%|██████████| 718/718 [00:21<00:00, 33.94it/s]\n",
            "Epoch 97/100 (Validation): 100%|██████████| 180/180 [00:03<00:00, 46.08it/s]\n"
          ]
        },
        {
          "output_type": "stream",
          "name": "stdout",
          "text": [
            "Epoch: 97 \tTraining Loss: 1.39780550 \tValidation Loss 1.51698931 \tTraining Accuracy 46.802% \tValidation Accuracy 41.292%\n"
          ]
        },
        {
          "output_type": "stream",
          "name": "stderr",
          "text": [
            "Epoch 98/100 (Training): 100%|██████████| 718/718 [00:21<00:00, 33.04it/s]\n",
            "Epoch 98/100 (Validation): 100%|██████████| 180/180 [00:04<00:00, 43.69it/s]\n"
          ]
        },
        {
          "output_type": "stream",
          "name": "stdout",
          "text": [
            "Epoch: 98 \tTraining Loss: 1.38807647 \tValidation Loss 1.46971900 \tTraining Accuracy 46.841% \tValidation Accuracy 42.894%\n"
          ]
        },
        {
          "output_type": "stream",
          "name": "stderr",
          "text": [
            "Epoch 99/100 (Training): 100%|██████████| 718/718 [00:21<00:00, 33.18it/s]\n",
            "Epoch 99/100 (Validation): 100%|██████████| 180/180 [00:03<00:00, 45.76it/s]\n"
          ]
        },
        {
          "output_type": "stream",
          "name": "stdout",
          "text": [
            "Epoch: 99 \tTraining Loss: 1.38494303 \tValidation Loss 1.50598715 \tTraining Accuracy 47.133% \tValidation Accuracy 43.678%\n"
          ]
        },
        {
          "output_type": "stream",
          "name": "stderr",
          "text": [
            "Epoch 100/100 (Training): 100%|██████████| 718/718 [00:21<00:00, 33.83it/s]\n",
            "Epoch 100/100 (Validation): 100%|██████████| 180/180 [00:04<00:00, 39.13it/s]"
          ]
        },
        {
          "output_type": "stream",
          "name": "stdout",
          "text": [
            "Epoch: 100 \tTraining Loss: 1.39250826 \tValidation Loss 1.47132503 \tTraining Accuracy 46.732% \tValidation Accuracy 43.016%\n",
            "===================================Training Finished===================================\n"
          ]
        },
        {
          "output_type": "stream",
          "name": "stderr",
          "text": [
            "\n"
          ]
        }
      ]
    },
    {
      "cell_type": "code",
      "source": [],
      "metadata": {
        "id": "3wgaMGnL_yoB"
      },
      "execution_count": null,
      "outputs": []
    }
  ]
}